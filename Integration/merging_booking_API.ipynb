{
  "nbformat": 4,
  "nbformat_minor": 0,
  "metadata": {
    "colab": {
      "provenance": []
    },
    "kernelspec": {
      "name": "python3",
      "display_name": "Python 3"
    },
    "language_info": {
      "name": "python"
    }
  },
  "cells": [
    {
      "cell_type": "markdown",
      "source": [
        "# Merge of API and Booking.com"
      ],
      "metadata": {
        "id": "bXiVQHOGVSLs"
      }
    },
    {
      "cell_type": "code",
      "execution_count": null,
      "metadata": {
        "id": "7RSPswtDVOZ2"
      },
      "outputs": [],
      "source": [
        "#pip install fuzzywuzzy\n",
        "#pip install python-Levenshtein"
      ]
    },
    {
      "cell_type": "code",
      "source": [
        "import csv\n",
        "import pandas as pd\n",
        "import math\n",
        "\n",
        "from fuzzywuzzy import fuzz\n",
        "from fuzzywuzzy import process"
      ],
      "metadata": {
        "id": "sld5J__3VRbu"
      },
      "execution_count": null,
      "outputs": []
    },
    {
      "cell_type": "code",
      "source": [
        "api_structure = pd.read_csv('api_structure.csv', encoding='utf-8', header=0)\n",
        "booking_structure = pd.read_csv('booking_base.csv', encoding='utf-8', header=0)"
      ],
      "metadata": {
        "id": "tgu0a6MyVWj0"
      },
      "execution_count": null,
      "outputs": []
    },
    {
      "cell_type": "code",
      "source": [
        "# Print the first rows of the file \"api_structure.csv\"\n",
        "print(\"Prime righe di api_structure.csv:\")\n",
        "api_structure.head()"
      ],
      "metadata": {
        "id": "gAmyYG32VW7q"
      },
      "execution_count": null,
      "outputs": []
    },
    {
      "cell_type": "code",
      "source": [
        "# Print the number of rows of the file \"api_structure.csv\"\n",
        "print(\"Numero di righe di api_structure.csv:\", api_structure.shape[0])\n",
        "print(\"Numero di colonne di api_structure.csv:\", api_structure.shape[1])"
      ],
      "metadata": {
        "id": "y0gD9J9UVaIE"
      },
      "execution_count": null,
      "outputs": []
    },
    {
      "cell_type": "code",
      "source": [
        "# Print the first rows of the file \"booking_base.csv\"\n",
        "print(\"Prime righe di booking_base.csv:\")\n",
        "booking_structure.head()"
      ],
      "metadata": {
        "id": "zo6FmHiKVaEz"
      },
      "execution_count": null,
      "outputs": []
    },
    {
      "cell_type": "code",
      "source": [
        "# Print the number of rows of the file \"booking_base.csv\"\n",
        "print(\"Numero di righe di booking_base.csv:\", booking_structure.shape[0])\n",
        "print(\"Numero di colonne di booking_base.csv:\", booking_structure.shape[1])"
      ],
      "metadata": {
        "id": "DPLd6zc_VaBX"
      },
      "execution_count": null,
      "outputs": []
    },
    {
      "cell_type": "markdown",
      "source": [
        "### Work on each dataset"
      ],
      "metadata": {
        "id": "LMrzO9F7VfNQ"
      }
    },
    {
      "cell_type": "code",
      "source": [
        "# Count the number of rows for each 'comune' in 'api_structure'\n",
        "api_structure_counts = api_structure['nome_comune'].value_counts()\n",
        "\n",
        "# Count the number of rows for each 'comune' in 'booking_structure'\n",
        "booking_structure_counts = booking_structure['comune'].value_counts()"
      ],
      "metadata": {
        "id": "-8a6j6fTVZ73"
      },
      "execution_count": null,
      "outputs": []
    },
    {
      "cell_type": "code",
      "source": [
        "api_structure_counts"
      ],
      "metadata": {
        "id": "3t_KM-LVVZ46"
      },
      "execution_count": null,
      "outputs": []
    },
    {
      "cell_type": "code",
      "source": [
        "# Substitute all the occurencies of \"TEMÃ™\" with \"Temù\" in \"nome_comune\"\n",
        "api_structure['nome_comune'] = api_structure['nome_comune'].replace('TEMÃ™', 'Temù')\n",
        "\n",
        "# count the number of rows for each 'comune' in 'api_structure'\n",
        "api_structure_counts = api_structure['nome_comune'].value_counts()\n",
        "\n",
        "api_structure_counts"
      ],
      "metadata": {
        "id": "Xln8_UqIVZ0T"
      },
      "execution_count": null,
      "outputs": []
    },
    {
      "cell_type": "code",
      "source": [
        "booking_structure_counts"
      ],
      "metadata": {
        "id": "IU9wCgeyVZvj"
      },
      "execution_count": null,
      "outputs": []
    },
    {
      "cell_type": "code",
      "source": [
        "# Rename columns to avoid errors\n",
        "api_structure = api_structure.rename(columns={'nome_comune': 'API_Comune', 'indirizzo': 'API_Indirizzo'})\n",
        "booking_structure = booking_structure.rename(columns={'comune': 'Booking_Comune', 'indirizzo': 'Booking_Indirizzo'})\n",
        "\n",
        "# Transforms both columns to lower case to perform comparison without case difference\n",
        "api_structure['API_Comune'] = api_structure['API_Comune'].str.lower()\n",
        "api_structure['API_Indirizzo'] = api_structure['API_Indirizzo'].str.lower()\n",
        "booking_structure['Booking_Comune'] = booking_structure['Booking_Comune'].str.lower()\n",
        "booking_structure['Booking_Indirizzo'] = booking_structure['Booking_Indirizzo'].str.lower()"
      ],
      "metadata": {
        "id": "Ft6iZA5AVqmi"
      },
      "execution_count": null,
      "outputs": []
    },
    {
      "cell_type": "code",
      "source": [
        "# Merge the datasets on the 'comune' column.\n",
        "merged_data = pd.merge(api_structure, booking_structure, left_on=\"API_Comune\", right_on=\"Booking_Comune\", how=\"inner\")\n",
        "\n",
        "# Combine the values of columns\"API_Comune\" and \"Booking_Comune\" into a single column \"Comune\"\n",
        "# If API_Comune is missing then the dataset will use Booking_Comune to make up for this lack.\n",
        "merged_data[\"Comune\"] = merged_data[\"API_Comune\"].combine_first(merged_data[\"Booking_Comune\"])\n",
        "\n",
        "# Remove the original \"API_Comune\" and \"Booking_Comune\"\n",
        "merged_data = merged_data.drop([\"API_Comune\", \"Booking_Comune\"], axis=1)\n",
        "\n",
        "# Set the option to display all columns\n",
        "pd.set_option('display.max_columns', None)\n",
        "merged_data"
      ],
      "metadata": {
        "id": "09P2Z_nNVqpM"
      },
      "execution_count": null,
      "outputs": []
    },
    {
      "cell_type": "code",
      "source": [
        "# create 3 distinct dataframes for 3 distinct cases that I can get\n",
        "\n",
        "equal_address = merged_data[(merged_data['API_Indirizzo'] == merged_data['Booking_Indirizzo'])]\n",
        "different_address = merged_data[(merged_data['API_Indirizzo'].notnull()) & (merged_data['Booking_Indirizzo'].notnull()) & (merged_data['API_Indirizzo'] != merged_data['Booking_Indirizzo'])]\n",
        "null_address = merged_data[(merged_data['API_Indirizzo'].isnull()) | (merged_data['Booking_Indirizzo'].isnull())]"
      ],
      "metadata": {
        "id": "EsK-cTiVVqsB"
      },
      "execution_count": null,
      "outputs": []
    },
    {
      "cell_type": "markdown",
      "source": [
        "Dataset 1 - equal_address"
      ],
      "metadata": {
        "id": "hJd2FQgjVwQx"
      }
    },
    {
      "cell_type": "code",
      "source": [
        "print(\"Numero di righe in equal_address:\", len(equal_address))\n",
        "equal_address"
      ],
      "metadata": {
        "id": "N1lLV3s8Vqvb"
      },
      "execution_count": null,
      "outputs": []
    },
    {
      "cell_type": "markdown",
      "source": [
        "Dataset 2 - different_address"
      ],
      "metadata": {
        "id": "C_bhfF31V1hH"
      }
    },
    {
      "cell_type": "code",
      "source": [
        "print(\"Numero di righe in different_address:\", len(different_address))\n",
        "different_address"
      ],
      "metadata": {
        "id": "_ahwI7CiVqz3"
      },
      "execution_count": null,
      "outputs": []
    },
    {
      "cell_type": "markdown",
      "source": [
        "Dataset 3 - null_address"
      ],
      "metadata": {
        "id": "feWo5jlCV57Y"
      }
    },
    {
      "cell_type": "code",
      "source": [
        "print(\"Numero di righe in null_address:\", len(null_address))\n",
        "null_address"
      ],
      "metadata": {
        "id": "Knqre5K5Vq24"
      },
      "execution_count": null,
      "outputs": []
    },
    {
      "cell_type": "markdown",
      "source": [
        "WORK ON THE FIRST DATASET - EQUAL_ADDRESS"
      ],
      "metadata": {
        "id": "QNe_evyjV-Au"
      }
    },
    {
      "cell_type": "code",
      "source": [
        "# perform a check on the structure names.\n",
        "# first look at how many rows have the same name, then structure_name = name.\n",
        "\n",
        "# first convert the columns 'denominazione_struttura' and 'nome' to lower case, so that the search is \"case insensitive\"\n",
        "equal_address['denominazione_struttura'] = equal_address['denominazione_struttura'].str.lower()\n",
        "equal_address['nome'] = equal_address['nome'].str.lower()\n",
        "\n",
        "equal_name = equal_address[(equal_address['denominazione_struttura'] == equal_address['nome'])]\n",
        "equal_name"
      ],
      "metadata": {
        "id": "D9uoVBWbVq58"
      },
      "execution_count": null,
      "outputs": []
    },
    {
      "cell_type": "code",
      "source": [
        "# Iterate through the rows of the dataset \"equal_address\"\n",
        "# Now we try to check which rows of the dataset have one occurrence (these will be correct)\n",
        "# even if structure_name and name do not exactly match.\n",
        "# N.B. here you will also find those with 'denominazione_struttura' = 'nome'!\n",
        "occorrenze = 0\n",
        "indici1 = []\n",
        "\n",
        "for index, row in equal_address.iterrows():\n",
        "    indirizzo = row['API_Indirizzo']\n",
        "    denominazione_struttura = row['denominazione_struttura']\n",
        "    nome = row['nome']\n",
        "\n",
        "    righe_stesso_indirizzo = equal_address[equal_address['API_Indirizzo'] == indirizzo]\n",
        "\n",
        "    num_righe_stesso_indirizzo = len(righe_stesso_indirizzo)\n",
        "\n",
        "    # If there is more than one line with the same address, compare \"denominazione_struttura\" e \"nome\"\n",
        "    if num_righe_stesso_indirizzo == 1:\n",
        "        # print(f'Denominazione struttura: {denominazione_struttura} \\nNome: {nome}')\n",
        "        # print('-----------------------------------------')\n",
        "        occorrenze += 1\n",
        "        indici1.append(index)\n",
        "\n",
        "# print(occorrenze)\n",
        "print(indici1)"
      ],
      "metadata": {
        "id": "40iFzrO7WEy8"
      },
      "execution_count": null,
      "outputs": []
    },
    {
      "cell_type": "code",
      "source": [
        "# It happens that there are several facilities that have the same address.\n",
        "# These are, for example, apartments that are in the same building.\n",
        "# We look for those that have more than one recurrence (among them we will have to check how similar they are\n",
        "# and choose the most similar to each other).\n",
        "\n",
        "conteggio = 0\n",
        "indici2 = []\n",
        "\n",
        "for index, row in equal_address.iterrows():\n",
        "    indirizzo = row['API_Indirizzo']\n",
        "    denominazione_struttura = row['denominazione_struttura']\n",
        "    nome = row['nome']\n",
        "\n",
        "    # Count how many rows share the same address\n",
        "    righe_stesso_indirizzo = equal_address[equal_address['API_Indirizzo'] == indirizzo]\n",
        "    num_righe_stesso_indirizzo = len(righe_stesso_indirizzo)\n",
        "\n",
        "    # If there is more than one line with the same address, compare \"denominazione_struttura\" and \"nome\"\n",
        "    if num_righe_stesso_indirizzo > 1:\n",
        "\n",
        "        # Split strings into words\n",
        "        number_d = denominazione_struttura.split()\n",
        "        number_n = nome.split()\n",
        "\n",
        "        # Calculate the length of the two strings\n",
        "        lunghezza_d = len(number_d)\n",
        "        lunghezza_n = len(number_n)\n",
        "\n",
        "        # Calculates the similarity between \"denominazione_struttura\" e \"nome\"\n",
        "        similarity = fuzz.token_sort_ratio(denominazione_struttura, nome)\n",
        "\n",
        "        if lunghezza_d < lunghezza_n:\n",
        "            if denominazione_struttura in nome or similarity >= 50: # if the similarity is equal or higher than 50%, append the result\n",
        "                # print(f'Denominazione struttura: {denominazione_struttura} \\nNome: {nome}')\n",
        "                # print('-----------------------------------------')\n",
        "                conteggio += 1\n",
        "                indici2.append(index)\n",
        "        elif lunghezza_d > lunghezza_n:\n",
        "            if nome in denominazione_struttura or similarity >= 50:\n",
        "                # print(f'Denominazione struttura: {denominazione_struttura} \\nNome: {nome}')\n",
        "                # print('-----------------------------------------')\n",
        "                conteggio += 1\n",
        "                indici2.append(index)\n",
        "\n",
        "# print(conteggio)\n",
        "print(indici2)"
      ],
      "metadata": {
        "id": "0eFBvvgXWExl"
      },
      "execution_count": null,
      "outputs": []
    },
    {
      "cell_type": "code",
      "source": [
        "len(indici1)"
      ],
      "metadata": {
        "id": "9DjqWwS7WEus"
      },
      "execution_count": null,
      "outputs": []
    },
    {
      "cell_type": "code",
      "source": [
        "len(indici2)"
      ],
      "metadata": {
        "id": "XQSrIaDmWEpG"
      },
      "execution_count": null,
      "outputs": []
    },
    {
      "cell_type": "code",
      "source": [
        "indici_equal_address = list(set(indici1 + indici2))\n",
        "len(indici_equal_address)"
      ],
      "metadata": {
        "id": "VnyCy2soWEmQ"
      },
      "execution_count": null,
      "outputs": []
    },
    {
      "cell_type": "code",
      "source": [
        "# create a dataset called \"equal_address_cleaned\"\n",
        "# containing only the rows in the dataset \"equal_address\"\n",
        "# that have the same indexes as those in the list \"indici_equal_address\"\n",
        "\n",
        "equal_address_cleaned = equal_address.loc[indici_equal_address]\n",
        "equal_address_cleaned"
      ],
      "metadata": {
        "id": "eiZdn37RWEi8"
      },
      "execution_count": null,
      "outputs": []
    },
    {
      "cell_type": "markdown",
      "source": [
        "WORK ON THE SECOND DATASET - DIFFERENT_ADDRESS"
      ],
      "metadata": {
        "id": "HRv-M_QgWNbH"
      }
    },
    {
      "cell_type": "code",
      "source": [
        "# I perform an additional check on the addresses of the structures.\n",
        "# it is indeed possible that they do not match exactly\n",
        "# because an extra word has been inserted (es. frazione o località)\n",
        "\n",
        "# Convert columns 'API_Indirizzo' e 'Booking_Indirizzo' lowercase\n",
        "different_address['API_Indirizzo'] = different_address['API_Indirizzo'].str.lower()\n",
        "different_address['Booking_Indirizzo'] = different_address['Booking_Indirizzo'].str.lower()\n",
        "different_address['denominazione_struttura'] = different_address['denominazione_struttura'].str.lower()\n",
        "different_address['nome'] = different_address['nome'].str.lower()\n",
        "\n",
        "indici3 = []\n",
        "\n",
        "for index, row in different_address.iterrows():\n",
        "    API_Indirizzo = row['API_Indirizzo']\n",
        "    Booking_Indirizzo = row['Booking_Indirizzo']\n",
        "\n",
        "    # Check whether values are of type string\n",
        "    if isinstance(API_Indirizzo, str) and isinstance(Booking_Indirizzo, str):\n",
        "\n",
        "        # Divide strings into words\n",
        "        number_a = API_Indirizzo.split()\n",
        "        number_b = Booking_Indirizzo.split()\n",
        "\n",
        "        # Calculate the length of the two strings\n",
        "        lunghezza_a = len(number_a)\n",
        "        lunghezza_b = len(number_b)\n",
        "\n",
        "        # Calculate similarity\n",
        "        similarity = fuzz.token_sort_ratio(API_Indirizzo, Booking_Indirizzo)\n",
        "\n",
        "        if lunghezza_a < lunghezza_b:\n",
        "            if API_Indirizzo in Booking_Indirizzo:\n",
        "                print(f'API_Indirizzo: {API_Indirizzo} \\nBooking_Indirizzo: {Booking_Indirizzo}')\n",
        "                print('-----------------------------------------')\n",
        "                #conteggio += 1\n",
        "                indici3.append(index)\n",
        "        elif lunghezza_a > lunghezza_b:\n",
        "            if Booking_Indirizzo in API_Indirizzo:\n",
        "                print(f'API_Indirizzo: {API_Indirizzo} \\nBooking_Indirizzo: {Booking_Indirizzo}')\n",
        "                print('-----------------------------------------')\n",
        "                #conteggio += 1\n",
        "                indici3.append(index)\n",
        "        elif similarity >= 70:\n",
        "            print(f'API_Indirizzo: {API_Indirizzo} \\nBooking_Indirizzo: {Booking_Indirizzo}')\n",
        "            print('-----------------------------------------')\n",
        "            indici3.append(index)\n",
        "\n",
        "print(indici3)"
      ],
      "metadata": {
        "id": "XjKNp3iUWEc7"
      },
      "execution_count": null,
      "outputs": []
    },
    {
      "cell_type": "code",
      "source": [
        "len(indici3)"
      ],
      "metadata": {
        "id": "BljCej0nWEZq"
      },
      "execution_count": null,
      "outputs": []
    },
    {
      "cell_type": "code",
      "source": [
        "# do a further check on house numbers.\n",
        "# (keep in mind that those that don't have house numbers will have to be handled some other way)\n",
        "import re\n",
        "\n",
        "indici_civici = []\n",
        "indici_no_civici = []\n",
        "indici_drop = []\n",
        "\n",
        "for index in indici3:\n",
        "    row = different_address.loc[index]\n",
        "    API_Indirizzo = row['API_Indirizzo']\n",
        "    Booking_Indirizzo = row['Booking_Indirizzo']\n",
        "    Denominazione_struttura = row['denominazione_struttura']\n",
        "    nome = row['nome']\n",
        "\n",
        "    # Extract the house number from \"API_Indirizzo\" e \"Booking_Indirizzo\"\n",
        "    numero_civico_a = re.findall(r'\\d+[\\w\\s/]*(?=\\s|$)', API_Indirizzo)\n",
        "    numero_civico_b = re.findall(r'\\d+[\\w\\s/]*(?=\\s|$)', Booking_Indirizzo)\n",
        "\n",
        "    # Check if both house numbers are present and are the same.\n",
        "    if numero_civico_a and numero_civico_b:\n",
        "        if numero_civico_a == numero_civico_b:\n",
        "            print(index)\n",
        "            print(f'API_Indirizzo: {API_Indirizzo} \\nBooking_Indirizzo: {Booking_Indirizzo}')\n",
        "            print(f'Denominazione_struttura: {Denominazione_struttura} \\nnome: {nome}')\n",
        "            print('-----------------------------------------')\n",
        "            indici_civici.append(index)\n",
        "        elif numero_civico_a != numero_civico_b:\n",
        "            print(index)\n",
        "            print(f'API_Indirizzo: {API_Indirizzo} \\nBooking_Indirizzo: {Booking_Indirizzo}')\n",
        "            print(f'Denominazione_struttura: {Denominazione_struttura} \\nnome: {nome}')\n",
        "            print('-----------------------------------------')\n",
        "            indici_drop.append(index)\n",
        "    elif not numero_civico_a or not numero_civico_b:\n",
        "        indici_no_civici.append(index)\n",
        "\n",
        "print(indici_civici)\n",
        "print(indici_no_civici)\n",
        "print(indici_drop)"
      ],
      "metadata": {
        "id": "kx-oPCT_Vq_6"
      },
      "execution_count": null,
      "outputs": []
    },
    {
      "cell_type": "code",
      "source": [
        "len(indici_civici)"
      ],
      "metadata": {
        "id": "7lBaJPXPWWB7"
      },
      "execution_count": null,
      "outputs": []
    },
    {
      "cell_type": "code",
      "source": [
        "len(indici_no_civici)"
      ],
      "metadata": {
        "id": "R7JTaWxiWV_O"
      },
      "execution_count": null,
      "outputs": []
    },
    {
      "cell_type": "code",
      "source": [
        "len(indici_drop)"
      ],
      "metadata": {
        "id": "DHUiMdN1WV8g"
      },
      "execution_count": null,
      "outputs": []
    },
    {
      "cell_type": "code",
      "source": [
        "# I do a further check on addresses that have house numbers.\n",
        "indici_civici1 = []\n",
        "\n",
        "for index, row in different_address.iterrows():\n",
        "    API_Indirizzo = row['API_Indirizzo']\n",
        "    Booking_Indirizzo = row['Booking_Indirizzo']\n",
        "    denominazione_struttura = row['denominazione_struttura']\n",
        "    nome = row['nome']\n",
        "\n",
        "    # If there are more than one line with the same address, compare \"name_structure\" and \"name\"\n",
        "    if index in indici_civici:\n",
        "\n",
        "        # Split strings into words\n",
        "        number_d = denominazione_struttura.split()\n",
        "        number_n = nome.split()\n",
        "\n",
        "        # Calculate the length of the two strings\n",
        "        lunghezza_d = len(number_d)\n",
        "        lunghezza_n = len(number_n)\n",
        "\n",
        "        # Calculates the similarity between \"denominazione_struttura\" e \"nome\"\n",
        "        similarity = fuzz.token_sort_ratio(denominazione_struttura, nome)\n",
        "\n",
        "        if lunghezza_d < lunghezza_n:\n",
        "            if denominazione_struttura in nome:\n",
        "                print(f'Denominazione struttura: {denominazione_struttura} \\nNome: {nome}\\nAPI Indirizzo: {API_Indirizzo}\\nBooking Indirizzo: {Booking_Indirizzo}')\n",
        "                print('-----------------------------------------')\n",
        "                indici_civici1.append(index)\n",
        "        elif lunghezza_d > lunghezza_n:\n",
        "            if nome in denominazione_struttura:\n",
        "                print(f'Denominazione struttura: {denominazione_struttura} \\nNome: {nome}\\nAPI Indirizzo: {API_Indirizzo}\\nBooking Indirizzo: {Booking_Indirizzo}')\n",
        "                print('-----------------------------------------')\n",
        "                indici_civici1.append(index)\n",
        "        elif similarity >= 50: # If the similarity is greater than or equal to 50%, print and append the results\n",
        "            print(f'Denominazione struttura: {denominazione_struttura} \\nNome: {nome}\\nAPI Indirizzo: {API_Indirizzo}\\nBooking Indirizzo: {Booking_Indirizzo}')\n",
        "            print('-----------------------------------------')\n",
        "            indici_civici1.append(index)\n",
        "\n",
        "# print(conteggio)\n",
        "print(indici_civici1)"
      ],
      "metadata": {
        "id": "AYHj5K0yWV3q"
      },
      "execution_count": null,
      "outputs": []
    },
    {
      "cell_type": "code",
      "source": [
        "print(len(indici_civici1))"
      ],
      "metadata": {
        "id": "j0Tp5yQiWV0l"
      },
      "execution_count": null,
      "outputs": []
    },
    {
      "cell_type": "code",
      "source": [
        "# I do a further check on addresses that do not have house numbers\n",
        "indici_no_civici1 = []\n",
        "\n",
        "for index, row in different_address.iterrows():\n",
        "    API_Indirizzo = row['API_Indirizzo']\n",
        "    Booking_Indirizzo = row['Booking_Indirizzo']\n",
        "    denominazione_struttura = row['denominazione_struttura']\n",
        "    nome = row['nome']\n",
        "\n",
        "    if index in indici_no_civici:\n",
        "\n",
        "        number_d = denominazione_struttura.split()\n",
        "        number_n = nome.split()\n",
        "\n",
        "        lunghezza_d = len(number_d)\n",
        "        lunghezza_n = len(number_n)\n",
        "\n",
        "        similarity = fuzz.token_sort_ratio(denominazione_struttura, nome)\n",
        "\n",
        "        if lunghezza_d < lunghezza_n:\n",
        "            if denominazione_struttura in nome:\n",
        "                print(f'Denominazione struttura: {denominazione_struttura} \\nNome: {nome}\\nAPI Indirizzo: {API_Indirizzo}\\nBooking Indirizzo: {Booking_Indirizzo}')\n",
        "                print('-----------------------------------------')\n",
        "                indici_no_civici1.append(index)\n",
        "        elif lunghezza_d > lunghezza_n:\n",
        "            if nome in denominazione_struttura:\n",
        "                print(f'Denominazione struttura: {denominazione_struttura} \\nNome: {nome}\\nAPI Indirizzo: {API_Indirizzo}\\nBooking Indirizzo: {Booking_Indirizzo}')\n",
        "                print('-----------------------------------------')\n",
        "                indici_no_civici1.append(index)\n",
        "        elif similarity >= 50:\n",
        "            print(f'Denominazione struttura: {denominazione_struttura} \\nNome: {nome}\\nAPI Indirizzo: {API_Indirizzo}\\nBooking Indirizzo: {Booking_Indirizzo}')\n",
        "            print('-----------------------------------------')\n",
        "            indici_no_civici1.append(index)\n",
        "\n",
        "# print(conteggio)\n",
        "print(indici_no_civici1)"
      ],
      "metadata": {
        "id": "Rs0MvzE4VrF4"
      },
      "execution_count": null,
      "outputs": []
    },
    {
      "cell_type": "code",
      "source": [
        "print(len(indici_no_civici1))"
      ],
      "metadata": {
        "id": "qLaYoPtRWjcb"
      },
      "execution_count": null,
      "outputs": []
    },
    {
      "cell_type": "code",
      "source": [
        "# do a further check on addresses that do not have house numbers\n",
        "indici_drop1 = []\n",
        "\n",
        "for index, row in different_address.iterrows():\n",
        "    API_Indirizzo = row['API_Indirizzo']\n",
        "    Booking_Indirizzo = row['Booking_Indirizzo']\n",
        "    denominazione_struttura = row['denominazione_struttura']\n",
        "    nome = row['nome']\n",
        "\n",
        "    if index in indici_drop:\n",
        "\n",
        "        number_d = denominazione_struttura.split()\n",
        "        number_n = nome.split()\n",
        "\n",
        "        lunghezza_d = len(number_d)\n",
        "        lunghezza_n = len(number_n)\n",
        "\n",
        "        similarity = fuzz.token_sort_ratio(denominazione_struttura, nome)\n",
        "\n",
        "        if lunghezza_d < lunghezza_n:\n",
        "            if denominazione_struttura in nome:\n",
        "                print(f'Denominazione struttura: {denominazione_struttura} \\nNome: {nome}\\nAPI Indirizzo: {API_Indirizzo}\\nBooking Indirizzo: {Booking_Indirizzo}')\n",
        "                print('-----------------------------------------')\n",
        "                indici_drop1.append(index)\n",
        "        elif lunghezza_d > lunghezza_n:\n",
        "            if nome in denominazione_struttura:\n",
        "                print(f'Denominazione struttura: {denominazione_struttura} \\nNome: {nome}\\nAPI Indirizzo: {API_Indirizzo}\\nBooking Indirizzo: {Booking_Indirizzo}')\n",
        "                print('-----------------------------------------')\n",
        "                indici_drop1.append(index)\n",
        "        elif similarity >= 80:\n",
        "            print(f'Denominazione struttura: {denominazione_struttura} \\nNome: {nome}\\nAPI Indirizzo: {API_Indirizzo}\\nBooking Indirizzo: {Booking_Indirizzo}')\n",
        "            print('-----------------------------------------')\n",
        "            indici_drop1.append(index)\n",
        "\n",
        "# print(conteggio)\n",
        "print(indici_drop1)"
      ],
      "metadata": {
        "id": "yIL8l4E3Wje9"
      },
      "execution_count": null,
      "outputs": []
    },
    {
      "cell_type": "code",
      "source": [
        "print(len(indici_drop1))"
      ],
      "metadata": {
        "id": "jHaNEUYkWjhH"
      },
      "execution_count": null,
      "outputs": []
    },
    {
      "cell_type": "code",
      "source": [
        "# do a further check on addresses that do not have house numbers\n",
        "indici_no_drop = []\n",
        "\n",
        "for index, row in different_address.iterrows():\n",
        "    API_Indirizzo = row['API_Indirizzo']\n",
        "    Booking_Indirizzo = row['Booking_Indirizzo']\n",
        "    denominazione_struttura = row['denominazione_struttura']\n",
        "    nome = row['nome']\n",
        "\n",
        "    if index in indici_drop1:\n",
        "\n",
        "        number_d = denominazione_struttura.split()\n",
        "        number_n = nome.split()\n",
        "        number_a = API_Indirizzo.split()\n",
        "        number_b = Booking_Indirizzo.split()\n",
        "\n",
        "        lunghezza_d = len(number_d)\n",
        "        lunghezza_n = len(number_n)\n",
        "        lunghezza_a = len(number_a)\n",
        "        lunghezza_b = len(number_b)\n",
        "\n",
        "        similarity1 = fuzz.token_sort_ratio(API_Indirizzo, Booking_Indirizzo)\n",
        "        similarity2 = fuzz.token_sort_ratio(denominazione_struttura, nome)\n",
        "\n",
        "        if similarity1 >= 90 and similarity2 >= 90:\n",
        "            print(f'Denominazione struttura: {denominazione_struttura} \\nNome: {nome}\\nAPI Indirizzo: {API_Indirizzo}\\nBooking Indirizzo: {Booking_Indirizzo}')\n",
        "            print('-----------------------------------------')\n",
        "            indici_no_drop.append(index)\n",
        "\n",
        "# print(conteggio)\n",
        "print(indici_no_drop)"
      ],
      "metadata": {
        "id": "YT28-vgCWjjv"
      },
      "execution_count": null,
      "outputs": []
    },
    {
      "cell_type": "code",
      "source": [
        "# drop the 3rd index because it's wrong\n",
        "indici_no_drop.pop(2)\n",
        "indici_no_drop"
      ],
      "metadata": {
        "id": "61TxrNKFWjmD"
      },
      "execution_count": null,
      "outputs": []
    },
    {
      "cell_type": "code",
      "source": [
        "# sum the lists: indici_civici1, indici_no_civici1, indici_no_drop\n",
        "indici_different_address = list(set(indici_civici1 + indici_no_civici1 + indici_no_drop))\n",
        "len(indici_different_address)"
      ],
      "metadata": {
        "id": "TOAdYxnOWjoc"
      },
      "execution_count": null,
      "outputs": []
    },
    {
      "cell_type": "code",
      "source": [
        "# create a dataset called \"different_address_cleaned\"\n",
        "# containing only rows of the dataset \"different_address\"\n",
        "# which have the same indexes that are in the list \"different_address_cleaned\"\n",
        "\n",
        "different_address_cleaned = different_address.loc[indici_different_address]\n",
        "different_address_cleaned"
      ],
      "metadata": {
        "id": "MSpcGR0pWjq3"
      },
      "execution_count": null,
      "outputs": []
    },
    {
      "cell_type": "markdown",
      "source": [
        "WORK ON THE THIRD DATASET - NULL_ADDRESS"
      ],
      "metadata": {
        "id": "yIwXHTTLWvow"
      }
    },
    {
      "cell_type": "code",
      "source": [
        "# In this case we cannot rely on the address because\n",
        "# either in 'API_Indirizzo' or in 'Booking_Indirizzo' or both it is missing.\n",
        "# Therefore, we can work on the similarity between 'denominazione_struttura' e 'nome' or 'localita' and 'località'\n",
        "\n",
        "# Convert the columns\n",
        "null_address['localita'] = null_address['localita'].str.lower()\n",
        "null_address['località'] = null_address['località'].str.lower()\n",
        "null_address['denominazione_struttura'] = null_address['denominazione_struttura'].str.lower()\n",
        "null_address['nome'] = null_address['nome'].str.lower()\n",
        "\n",
        "indici4 = []\n",
        "\n",
        "for index, row in null_address.iterrows():\n",
        "    localita = row['localita']\n",
        "    località = row['località']\n",
        "    denominazione_struttura = row['denominazione_struttura']\n",
        "    nome = row['nome']\n",
        "\n",
        "    if isinstance(localita, str) and isinstance(località, str):\n",
        "\n",
        "        number_d = denominazione_struttura.split()\n",
        "        number_n = nome.split()\n",
        "        number_a = localita.split()\n",
        "        number_b = località.split()\n",
        "\n",
        "        lunghezza_d = len(number_d)\n",
        "        lunghezza_n = len(number_n)\n",
        "        lunghezza_a = len(number_a)\n",
        "        lunghezza_b = len(number_b)\n",
        "\n",
        "        similarity1 = fuzz.token_sort_ratio(localita, località)\n",
        "        similarity2 = fuzz.token_sort_ratio(denominazione_struttura, nome)\n",
        "\n",
        "        if not pd.isna(localita) and not pd.isna(località):\n",
        "            if similarity1 >= 70 and similarity2 >= 50:\n",
        "                print(f'Denominazione struttura: {denominazione_struttura} \\nNome: {nome}\\nAPI Indirizzo: {API_Indirizzo}\\nBooking Indirizzo: {Booking_Indirizzo}')\n",
        "                print('-----------------------------------------')\n",
        "                indici4.append(index)\n",
        "        else:\n",
        "            if similarity2 >= 50:\n",
        "                print(f'Denominazione struttura: {denominazione_struttura} \\nNome: {nome}\\nAPI Indirizzo: {API_Indirizzo}\\nBooking Indirizzo: {Booking_Indirizzo}')\n",
        "                print('-----------------------------------------')\n",
        "                indici4.append(index)\n",
        "\n",
        "print(indici4)"
      ],
      "metadata": {
        "id": "RmNBubohWjtJ"
      },
      "execution_count": null,
      "outputs": []
    },
    {
      "cell_type": "code",
      "source": [
        "# since I find no matches in this third dataset, then I continue with the merge.\n",
        "# I merge the previous two results:\n",
        "\n",
        "merged_df = pd.concat([equal_address_cleaned, different_address_cleaned])\n",
        "\n",
        "# restore the original indexes, using the reset_index method.\n",
        "merged_df = merged_df.reset_index(drop=True)\n",
        "\n",
        "merged_df"
      ],
      "metadata": {
        "id": "vXEdvwtKW5yI"
      },
      "execution_count": null,
      "outputs": []
    },
    {
      "cell_type": "code",
      "source": [
        "# I update the dataset downloaded from the API and call it \"API_complete\"\n",
        "\n",
        "# Create a copy of the api_structure dataframe.\n",
        "API_completo = api_structure.copy()\n",
        "\n",
        "# Update the API_complete dataframe using the merged_df dataframe.\n",
        "API_completo = merged_df.combine_first(API_completo)"
      ],
      "metadata": {
        "id": "x8ArUM_tW5vE"
      },
      "execution_count": null,
      "outputs": []
    },
    {
      "cell_type": "code",
      "source": [
        "# join the columns of the 'comune'\n",
        "API_completo['comune'] = API_completo['API_Comune'].combine_first(API_completo['Comune'])\n",
        "API_completo.drop(['API_Comune', 'Comune'], axis=1, inplace=True)"
      ],
      "metadata": {
        "id": "2d3OyzFKW5qm"
      },
      "execution_count": null,
      "outputs": []
    },
    {
      "cell_type": "code",
      "source": [
        "# join the columns of the 'indirizzo'\n",
        "API_completo['Indirizzo'] = API_completo['API_Indirizzo'].combine_first(API_completo['Booking_Indirizzo'])\n",
        "API_completo.drop(['API_Indirizzo', 'Booking_Indirizzo'], axis=1, inplace=True)"
      ],
      "metadata": {
        "id": "empsI7wuW5nS"
      },
      "execution_count": null,
      "outputs": []
    },
    {
      "cell_type": "code",
      "source": [
        "# join the columns of the 'cap'\n",
        "API_completo['Cap'] = API_completo['cap'].combine_first(API_completo['CAP'])\n",
        "API_completo.drop(['CAP', 'cap'], axis=1, inplace=True)"
      ],
      "metadata": {
        "id": "kRRN25AlW5j0"
      },
      "execution_count": null,
      "outputs": []
    },
    {
      "cell_type": "code",
      "source": [
        "# join the columns of the 'località'\n",
        "API_completo['Località'] = API_completo['localita'].combine_first(API_completo['località'])\n",
        "API_completo.drop(['localita', 'località'], axis=1, inplace=True)"
      ],
      "metadata": {
        "id": "tIRsCf75W5hE"
      },
      "execution_count": null,
      "outputs": []
    },
    {
      "cell_type": "code",
      "source": [
        "API_completo"
      ],
      "metadata": {
        "id": "0BvaPe2oXDqH"
      },
      "execution_count": null,
      "outputs": []
    },
    {
      "cell_type": "code",
      "source": [
        "# Save the DataFrame in 'API_completo.csv'\n",
        "API_completo.to_csv('API_completo.csv', index=False)"
      ],
      "metadata": {
        "id": "OJEne_deXDnZ"
      },
      "execution_count": null,
      "outputs": []
    }
  ]
}